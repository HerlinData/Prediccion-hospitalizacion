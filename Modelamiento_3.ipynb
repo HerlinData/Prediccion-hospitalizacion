{
  "cells": [
    {
      "cell_type": "markdown",
      "metadata": {
        "id": "4WaoEOp0KkSp"
      },
      "source": [
        "![HenryLogo](https://d31uz8lwfmyn8g.cloudfront.net/Assets/logo-henry-white-lg.png)\n",
        "\n",
        "# **Proyecto integrador**\n",
        "\n",
        "### 3. Modelamiento\n",
        "\n",
        "Una vez preparados los datos, se procederá con el modelamiento. Recuerden que el objetivo es clasificar a un paciente como hospitalizado o no hospitalizado, teniendo en cuenta un data set que contiene información referente a antecedentes del paciente, morbilidad asociada al paciente y antecedentes relacionados con la toma de la biopsia y complicaciones infecciosas.\n",
        "\n",
        "\n"
      ]
    },
    {
      "cell_type": "code",
      "execution_count": 1,
      "metadata": {},
      "outputs": [],
      "source": [
        "import pandas as pd\n",
        "import numpy as np\n",
        "import matplotlib.pyplot as plt\n",
        "import seaborn as sns\n",
        "from imblearn.over_sampling import RandomOverSampler\n",
        "from sklearn.model_selection import train_test_split\n",
        "from sklearn.neighbors import KNeighborsClassifier\n",
        "from sklearn.tree import DecisionTreeClassifier\n",
        "from sklearn.svm import SVC\n",
        "from sklearn.preprocessing import StandardScaler\n",
        "from sklearn.decomposition import PCA\n",
        "from sklearn.metrics import ConfusionMatrixDisplay\n",
        "from sklearn.model_selection import GridSearchCV\n",
        "from sklearn.metrics import confusion_matrix\n",
        "from sklearn.metrics import accuracy_score\n",
        "from sklearn.metrics import precision_score\n",
        "from sklearn.metrics import recall_score\n",
        "from sklearn.metrics import f1_score\n",
        "from imblearn.over_sampling import SMOTE\n",
        "from sklearn.metrics import classification_report\n",
        "\n",
        "\n",
        "sns.set_style(\"darkgrid\")\n",
        "import warnings\n",
        "warnings.simplefilter(\"ignore\")\n",
        "import plotly.express as px\n",
        "pd.set_option('display.max_columns', None)"
      ]
    },
    {
      "cell_type": "markdown",
      "metadata": {
        "id": "E22GkymtLevx"
      },
      "source": [
        "Carguen la base de datos preparada desde la fase 2."
      ]
    },
    {
      "cell_type": "code",
      "execution_count": 2,
      "metadata": {
        "id": "dlRCMYtGLqDJ"
      },
      "outputs": [
        {
          "data": {
            "text/html": [
              "<div>\n",
              "<style scoped>\n",
              "    .dataframe tbody tr th:only-of-type {\n",
              "        vertical-align: middle;\n",
              "    }\n",
              "\n",
              "    .dataframe tbody tr th {\n",
              "        vertical-align: top;\n",
              "    }\n",
              "\n",
              "    .dataframe thead th {\n",
              "        text-align: right;\n",
              "    }\n",
              "</style>\n",
              "<table border=\"1\" class=\"dataframe\">\n",
              "  <thead>\n",
              "    <tr style=\"text-align: right;\">\n",
              "      <th></th>\n",
              "      <th>edad</th>\n",
              "      <th>diabetes</th>\n",
              "      <th>psa</th>\n",
              "      <th>biop_prev</th>\n",
              "      <th>vol_prostatico</th>\n",
              "      <th>antib_en_profilaxis</th>\n",
              "      <th>n_muestras</th>\n",
              "      <th>e_cpo</th>\n",
              "      <th>biopsia</th>\n",
              "      <th>fiebre</th>\n",
              "      <th>itu</th>\n",
              "      <th>tipo_cultivo</th>\n",
              "      <th>hospitalizacion</th>\n",
              "    </tr>\n",
              "  </thead>\n",
              "  <tbody>\n",
              "    <tr>\n",
              "      <th>0</th>\n",
              "      <td>53</td>\n",
              "      <td>0</td>\n",
              "      <td>4.0</td>\n",
              "      <td>0</td>\n",
              "      <td>1</td>\n",
              "      <td>1</td>\n",
              "      <td>12</td>\n",
              "      <td>0</td>\n",
              "      <td>7</td>\n",
              "      <td>1</td>\n",
              "      <td>0</td>\n",
              "      <td>2</td>\n",
              "      <td>1</td>\n",
              "    </tr>\n",
              "    <tr>\n",
              "      <th>1</th>\n",
              "      <td>56</td>\n",
              "      <td>0</td>\n",
              "      <td>7.7</td>\n",
              "      <td>0</td>\n",
              "      <td>1</td>\n",
              "      <td>1</td>\n",
              "      <td>12</td>\n",
              "      <td>0</td>\n",
              "      <td>7</td>\n",
              "      <td>1</td>\n",
              "      <td>0</td>\n",
              "      <td>2</td>\n",
              "      <td>1</td>\n",
              "    </tr>\n",
              "    <tr>\n",
              "      <th>2</th>\n",
              "      <td>57</td>\n",
              "      <td>0</td>\n",
              "      <td>29.0</td>\n",
              "      <td>1</td>\n",
              "      <td>1</td>\n",
              "      <td>1</td>\n",
              "      <td>24</td>\n",
              "      <td>0</td>\n",
              "      <td>7</td>\n",
              "      <td>1</td>\n",
              "      <td>0</td>\n",
              "      <td>0</td>\n",
              "      <td>1</td>\n",
              "    </tr>\n",
              "    <tr>\n",
              "      <th>3</th>\n",
              "      <td>56</td>\n",
              "      <td>0</td>\n",
              "      <td>7.0</td>\n",
              "      <td>0</td>\n",
              "      <td>1</td>\n",
              "      <td>1</td>\n",
              "      <td>12</td>\n",
              "      <td>0</td>\n",
              "      <td>7</td>\n",
              "      <td>1</td>\n",
              "      <td>0</td>\n",
              "      <td>2</td>\n",
              "      <td>1</td>\n",
              "    </tr>\n",
              "    <tr>\n",
              "      <th>4</th>\n",
              "      <td>55</td>\n",
              "      <td>0</td>\n",
              "      <td>29.0</td>\n",
              "      <td>1</td>\n",
              "      <td>1</td>\n",
              "      <td>1</td>\n",
              "      <td>24</td>\n",
              "      <td>0</td>\n",
              "      <td>7</td>\n",
              "      <td>1</td>\n",
              "      <td>0</td>\n",
              "      <td>0</td>\n",
              "      <td>1</td>\n",
              "    </tr>\n",
              "    <tr>\n",
              "      <th>...</th>\n",
              "      <td>...</td>\n",
              "      <td>...</td>\n",
              "      <td>...</td>\n",
              "      <td>...</td>\n",
              "      <td>...</td>\n",
              "      <td>...</td>\n",
              "      <td>...</td>\n",
              "      <td>...</td>\n",
              "      <td>...</td>\n",
              "      <td>...</td>\n",
              "      <td>...</td>\n",
              "      <td>...</td>\n",
              "      <td>...</td>\n",
              "    </tr>\n",
              "    <tr>\n",
              "      <th>428</th>\n",
              "      <td>55</td>\n",
              "      <td>0</td>\n",
              "      <td>5.0</td>\n",
              "      <td>0</td>\n",
              "      <td>0</td>\n",
              "      <td>1</td>\n",
              "      <td>12</td>\n",
              "      <td>0</td>\n",
              "      <td>2</td>\n",
              "      <td>0</td>\n",
              "      <td>0</td>\n",
              "      <td>2</td>\n",
              "      <td>0</td>\n",
              "    </tr>\n",
              "    <tr>\n",
              "      <th>429</th>\n",
              "      <td>70</td>\n",
              "      <td>1</td>\n",
              "      <td>18.0</td>\n",
              "      <td>0</td>\n",
              "      <td>1</td>\n",
              "      <td>1</td>\n",
              "      <td>12</td>\n",
              "      <td>0</td>\n",
              "      <td>7</td>\n",
              "      <td>0</td>\n",
              "      <td>0</td>\n",
              "      <td>2</td>\n",
              "      <td>0</td>\n",
              "    </tr>\n",
              "    <tr>\n",
              "      <th>430</th>\n",
              "      <td>75</td>\n",
              "      <td>0</td>\n",
              "      <td>75.0</td>\n",
              "      <td>0</td>\n",
              "      <td>1</td>\n",
              "      <td>1</td>\n",
              "      <td>12</td>\n",
              "      <td>0</td>\n",
              "      <td>3</td>\n",
              "      <td>0</td>\n",
              "      <td>0</td>\n",
              "      <td>2</td>\n",
              "      <td>0</td>\n",
              "    </tr>\n",
              "    <tr>\n",
              "      <th>431</th>\n",
              "      <td>67</td>\n",
              "      <td>0</td>\n",
              "      <td>6.0</td>\n",
              "      <td>0</td>\n",
              "      <td>1</td>\n",
              "      <td>1</td>\n",
              "      <td>12</td>\n",
              "      <td>0</td>\n",
              "      <td>1</td>\n",
              "      <td>0</td>\n",
              "      <td>0</td>\n",
              "      <td>2</td>\n",
              "      <td>0</td>\n",
              "    </tr>\n",
              "    <tr>\n",
              "      <th>432</th>\n",
              "      <td>64</td>\n",
              "      <td>0</td>\n",
              "      <td>4.8</td>\n",
              "      <td>0</td>\n",
              "      <td>1</td>\n",
              "      <td>3</td>\n",
              "      <td>12</td>\n",
              "      <td>0</td>\n",
              "      <td>2</td>\n",
              "      <td>0</td>\n",
              "      <td>0</td>\n",
              "      <td>2</td>\n",
              "      <td>0</td>\n",
              "    </tr>\n",
              "  </tbody>\n",
              "</table>\n",
              "<p>433 rows × 13 columns</p>\n",
              "</div>"
            ],
            "text/plain": [
              "     edad  diabetes   psa  biop_prev  vol_prostatico  antib_en_profilaxis  \\\n",
              "0      53         0   4.0          0               1                    1   \n",
              "1      56         0   7.7          0               1                    1   \n",
              "2      57         0  29.0          1               1                    1   \n",
              "3      56         0   7.0          0               1                    1   \n",
              "4      55         0  29.0          1               1                    1   \n",
              "..    ...       ...   ...        ...             ...                  ...   \n",
              "428    55         0   5.0          0               0                    1   \n",
              "429    70         1  18.0          0               1                    1   \n",
              "430    75         0  75.0          0               1                    1   \n",
              "431    67         0   6.0          0               1                    1   \n",
              "432    64         0   4.8          0               1                    3   \n",
              "\n",
              "     n_muestras  e_cpo  biopsia  fiebre  itu  tipo_cultivo  hospitalizacion  \n",
              "0            12      0        7       1    0             2                1  \n",
              "1            12      0        7       1    0             2                1  \n",
              "2            24      0        7       1    0             0                1  \n",
              "3            12      0        7       1    0             2                1  \n",
              "4            24      0        7       1    0             0                1  \n",
              "..          ...    ...      ...     ...  ...           ...              ...  \n",
              "428          12      0        2       0    0             2                0  \n",
              "429          12      0        7       0    0             2                0  \n",
              "430          12      0        3       0    0             2                0  \n",
              "431          12      0        1       0    0             2                0  \n",
              "432          12      0        2       0    0             2                0  \n",
              "\n",
              "[433 rows x 13 columns]"
            ]
          },
          "execution_count": 2,
          "metadata": {},
          "output_type": "execute_result"
        }
      ],
      "source": [
        "df_main = pd.read_csv('datasets/BBDD_hospitalizacion_2encod.csv')\n",
        "df_main"
      ]
    },
    {
      "cell_type": "code",
      "execution_count": 3,
      "metadata": {},
      "outputs": [
        {
          "data": {
            "application/vnd.plotly.v1+json": {
              "config": {
                "plotlyServerURL": "https://plot.ly"
              },
              "data": [
                {
                  "alignmentgroup": "True",
                  "bingroup": "x",
                  "hovertemplate": "hospitalizacion=%{x}<br>count=%{y}<extra></extra>",
                  "legendgroup": "1",
                  "marker": {
                    "color": "#636efa",
                    "pattern": {
                      "shape": ""
                    }
                  },
                  "name": "1",
                  "offsetgroup": "1",
                  "orientation": "v",
                  "showlegend": true,
                  "type": "histogram",
                  "x": [
                    1,
                    1,
                    1,
                    1,
                    1,
                    1,
                    1,
                    1,
                    1,
                    1,
                    1,
                    1,
                    1,
                    1,
                    1,
                    1,
                    1,
                    1,
                    1,
                    1,
                    1,
                    1,
                    1
                  ],
                  "xaxis": "x",
                  "yaxis": "y"
                },
                {
                  "alignmentgroup": "True",
                  "bingroup": "x",
                  "hovertemplate": "hospitalizacion=%{x}<br>count=%{y}<extra></extra>",
                  "legendgroup": "0",
                  "marker": {
                    "color": "#EF553B",
                    "pattern": {
                      "shape": ""
                    }
                  },
                  "name": "0",
                  "offsetgroup": "0",
                  "orientation": "v",
                  "showlegend": true,
                  "type": "histogram",
                  "x": [
                    0,
                    0,
                    0,
                    0,
                    0,
                    0,
                    0,
                    0,
                    0,
                    0,
                    0,
                    0,
                    0,
                    0,
                    0,
                    0,
                    0,
                    0,
                    0,
                    0,
                    0,
                    0,
                    0,
                    0,
                    0,
                    0,
                    0,
                    0,
                    0,
                    0,
                    0,
                    0,
                    0,
                    0,
                    0,
                    0,
                    0,
                    0,
                    0,
                    0,
                    0,
                    0,
                    0,
                    0,
                    0,
                    0,
                    0,
                    0,
                    0,
                    0,
                    0,
                    0,
                    0,
                    0,
                    0,
                    0,
                    0,
                    0,
                    0,
                    0,
                    0,
                    0,
                    0,
                    0,
                    0,
                    0,
                    0,
                    0,
                    0,
                    0,
                    0,
                    0,
                    0,
                    0,
                    0,
                    0,
                    0,
                    0,
                    0,
                    0,
                    0,
                    0,
                    0,
                    0,
                    0,
                    0,
                    0,
                    0,
                    0,
                    0,
                    0,
                    0,
                    0,
                    0,
                    0,
                    0,
                    0,
                    0,
                    0,
                    0,
                    0,
                    0,
                    0,
                    0,
                    0,
                    0,
                    0,
                    0,
                    0,
                    0,
                    0,
                    0,
                    0,
                    0,
                    0,
                    0,
                    0,
                    0,
                    0,
                    0,
                    0,
                    0,
                    0,
                    0,
                    0,
                    0,
                    0,
                    0,
                    0,
                    0,
                    0,
                    0,
                    0,
                    0,
                    0,
                    0,
                    0,
                    0,
                    0,
                    0,
                    0,
                    0,
                    0,
                    0,
                    0,
                    0,
                    0,
                    0,
                    0,
                    0,
                    0,
                    0,
                    0,
                    0,
                    0,
                    0,
                    0,
                    0,
                    0,
                    0,
                    0,
                    0,
                    0,
                    0,
                    0,
                    0,
                    0,
                    0,
                    0,
                    0,
                    0,
                    0,
                    0,
                    0,
                    0,
                    0,
                    0,
                    0,
                    0,
                    0,
                    0,
                    0,
                    0,
                    0,
                    0,
                    0,
                    0,
                    0,
                    0,
                    0,
                    0,
                    0,
                    0,
                    0,
                    0,
                    0,
                    0,
                    0,
                    0,
                    0,
                    0,
                    0,
                    0,
                    0,
                    0,
                    0,
                    0,
                    0,
                    0,
                    0,
                    0,
                    0,
                    0,
                    0,
                    0,
                    0,
                    0,
                    0,
                    0,
                    0,
                    0,
                    0,
                    0,
                    0,
                    0,
                    0,
                    0,
                    0,
                    0,
                    0,
                    0,
                    0,
                    0,
                    0,
                    0,
                    0,
                    0,
                    0,
                    0,
                    0,
                    0,
                    0,
                    0,
                    0,
                    0,
                    0,
                    0,
                    0,
                    0,
                    0,
                    0,
                    0,
                    0,
                    0,
                    0,
                    0,
                    0,
                    0,
                    0,
                    0,
                    0,
                    0,
                    0,
                    0,
                    0,
                    0,
                    0,
                    0,
                    0,
                    0,
                    0,
                    0,
                    0,
                    0,
                    0,
                    0,
                    0,
                    0,
                    0,
                    0,
                    0,
                    0,
                    0,
                    0,
                    0,
                    0,
                    0,
                    0,
                    0,
                    0,
                    0,
                    0,
                    0,
                    0,
                    0,
                    0,
                    0,
                    0,
                    0,
                    0,
                    0,
                    0,
                    0,
                    0,
                    0,
                    0,
                    0,
                    0,
                    0,
                    0,
                    0,
                    0,
                    0,
                    0,
                    0,
                    0,
                    0,
                    0,
                    0,
                    0,
                    0,
                    0,
                    0,
                    0,
                    0,
                    0,
                    0,
                    0,
                    0,
                    0,
                    0,
                    0,
                    0,
                    0,
                    0,
                    0,
                    0,
                    0,
                    0,
                    0,
                    0,
                    0,
                    0,
                    0,
                    0,
                    0,
                    0,
                    0,
                    0,
                    0,
                    0,
                    0,
                    0,
                    0,
                    0,
                    0,
                    0,
                    0,
                    0,
                    0,
                    0,
                    0,
                    0,
                    0,
                    0,
                    0,
                    0,
                    0,
                    0,
                    0,
                    0,
                    0,
                    0,
                    0,
                    0,
                    0,
                    0,
                    0,
                    0,
                    0,
                    0,
                    0,
                    0,
                    0,
                    0,
                    0,
                    0,
                    0,
                    0,
                    0,
                    0,
                    0,
                    0,
                    0,
                    0,
                    0,
                    0,
                    0,
                    0,
                    0,
                    0,
                    0,
                    0,
                    0,
                    0,
                    0,
                    0,
                    0,
                    0,
                    0
                  ],
                  "xaxis": "x",
                  "yaxis": "y"
                }
              ],
              "layout": {
                "barmode": "relative",
                "font": {
                  "size": 12
                },
                "legend": {
                  "title": {
                    "text": "hospitalizacion"
                  },
                  "tracegroupgap": 0
                },
                "margin": {
                  "t": 60
                },
                "template": {
                  "data": {
                    "bar": [
                      {
                        "error_x": {
                          "color": "#2a3f5f"
                        },
                        "error_y": {
                          "color": "#2a3f5f"
                        },
                        "marker": {
                          "line": {
                            "color": "#E5ECF6",
                            "width": 0.5
                          },
                          "pattern": {
                            "fillmode": "overlay",
                            "size": 10,
                            "solidity": 0.2
                          }
                        },
                        "type": "bar"
                      }
                    ],
                    "barpolar": [
                      {
                        "marker": {
                          "line": {
                            "color": "#E5ECF6",
                            "width": 0.5
                          },
                          "pattern": {
                            "fillmode": "overlay",
                            "size": 10,
                            "solidity": 0.2
                          }
                        },
                        "type": "barpolar"
                      }
                    ],
                    "carpet": [
                      {
                        "aaxis": {
                          "endlinecolor": "#2a3f5f",
                          "gridcolor": "white",
                          "linecolor": "white",
                          "minorgridcolor": "white",
                          "startlinecolor": "#2a3f5f"
                        },
                        "baxis": {
                          "endlinecolor": "#2a3f5f",
                          "gridcolor": "white",
                          "linecolor": "white",
                          "minorgridcolor": "white",
                          "startlinecolor": "#2a3f5f"
                        },
                        "type": "carpet"
                      }
                    ],
                    "choropleth": [
                      {
                        "colorbar": {
                          "outlinewidth": 0,
                          "ticks": ""
                        },
                        "type": "choropleth"
                      }
                    ],
                    "contour": [
                      {
                        "colorbar": {
                          "outlinewidth": 0,
                          "ticks": ""
                        },
                        "colorscale": [
                          [
                            0,
                            "#0d0887"
                          ],
                          [
                            0.1111111111111111,
                            "#46039f"
                          ],
                          [
                            0.2222222222222222,
                            "#7201a8"
                          ],
                          [
                            0.3333333333333333,
                            "#9c179e"
                          ],
                          [
                            0.4444444444444444,
                            "#bd3786"
                          ],
                          [
                            0.5555555555555556,
                            "#d8576b"
                          ],
                          [
                            0.6666666666666666,
                            "#ed7953"
                          ],
                          [
                            0.7777777777777778,
                            "#fb9f3a"
                          ],
                          [
                            0.8888888888888888,
                            "#fdca26"
                          ],
                          [
                            1,
                            "#f0f921"
                          ]
                        ],
                        "type": "contour"
                      }
                    ],
                    "contourcarpet": [
                      {
                        "colorbar": {
                          "outlinewidth": 0,
                          "ticks": ""
                        },
                        "type": "contourcarpet"
                      }
                    ],
                    "heatmap": [
                      {
                        "colorbar": {
                          "outlinewidth": 0,
                          "ticks": ""
                        },
                        "colorscale": [
                          [
                            0,
                            "#0d0887"
                          ],
                          [
                            0.1111111111111111,
                            "#46039f"
                          ],
                          [
                            0.2222222222222222,
                            "#7201a8"
                          ],
                          [
                            0.3333333333333333,
                            "#9c179e"
                          ],
                          [
                            0.4444444444444444,
                            "#bd3786"
                          ],
                          [
                            0.5555555555555556,
                            "#d8576b"
                          ],
                          [
                            0.6666666666666666,
                            "#ed7953"
                          ],
                          [
                            0.7777777777777778,
                            "#fb9f3a"
                          ],
                          [
                            0.8888888888888888,
                            "#fdca26"
                          ],
                          [
                            1,
                            "#f0f921"
                          ]
                        ],
                        "type": "heatmap"
                      }
                    ],
                    "heatmapgl": [
                      {
                        "colorbar": {
                          "outlinewidth": 0,
                          "ticks": ""
                        },
                        "colorscale": [
                          [
                            0,
                            "#0d0887"
                          ],
                          [
                            0.1111111111111111,
                            "#46039f"
                          ],
                          [
                            0.2222222222222222,
                            "#7201a8"
                          ],
                          [
                            0.3333333333333333,
                            "#9c179e"
                          ],
                          [
                            0.4444444444444444,
                            "#bd3786"
                          ],
                          [
                            0.5555555555555556,
                            "#d8576b"
                          ],
                          [
                            0.6666666666666666,
                            "#ed7953"
                          ],
                          [
                            0.7777777777777778,
                            "#fb9f3a"
                          ],
                          [
                            0.8888888888888888,
                            "#fdca26"
                          ],
                          [
                            1,
                            "#f0f921"
                          ]
                        ],
                        "type": "heatmapgl"
                      }
                    ],
                    "histogram": [
                      {
                        "marker": {
                          "pattern": {
                            "fillmode": "overlay",
                            "size": 10,
                            "solidity": 0.2
                          }
                        },
                        "type": "histogram"
                      }
                    ],
                    "histogram2d": [
                      {
                        "colorbar": {
                          "outlinewidth": 0,
                          "ticks": ""
                        },
                        "colorscale": [
                          [
                            0,
                            "#0d0887"
                          ],
                          [
                            0.1111111111111111,
                            "#46039f"
                          ],
                          [
                            0.2222222222222222,
                            "#7201a8"
                          ],
                          [
                            0.3333333333333333,
                            "#9c179e"
                          ],
                          [
                            0.4444444444444444,
                            "#bd3786"
                          ],
                          [
                            0.5555555555555556,
                            "#d8576b"
                          ],
                          [
                            0.6666666666666666,
                            "#ed7953"
                          ],
                          [
                            0.7777777777777778,
                            "#fb9f3a"
                          ],
                          [
                            0.8888888888888888,
                            "#fdca26"
                          ],
                          [
                            1,
                            "#f0f921"
                          ]
                        ],
                        "type": "histogram2d"
                      }
                    ],
                    "histogram2dcontour": [
                      {
                        "colorbar": {
                          "outlinewidth": 0,
                          "ticks": ""
                        },
                        "colorscale": [
                          [
                            0,
                            "#0d0887"
                          ],
                          [
                            0.1111111111111111,
                            "#46039f"
                          ],
                          [
                            0.2222222222222222,
                            "#7201a8"
                          ],
                          [
                            0.3333333333333333,
                            "#9c179e"
                          ],
                          [
                            0.4444444444444444,
                            "#bd3786"
                          ],
                          [
                            0.5555555555555556,
                            "#d8576b"
                          ],
                          [
                            0.6666666666666666,
                            "#ed7953"
                          ],
                          [
                            0.7777777777777778,
                            "#fb9f3a"
                          ],
                          [
                            0.8888888888888888,
                            "#fdca26"
                          ],
                          [
                            1,
                            "#f0f921"
                          ]
                        ],
                        "type": "histogram2dcontour"
                      }
                    ],
                    "mesh3d": [
                      {
                        "colorbar": {
                          "outlinewidth": 0,
                          "ticks": ""
                        },
                        "type": "mesh3d"
                      }
                    ],
                    "parcoords": [
                      {
                        "line": {
                          "colorbar": {
                            "outlinewidth": 0,
                            "ticks": ""
                          }
                        },
                        "type": "parcoords"
                      }
                    ],
                    "pie": [
                      {
                        "automargin": true,
                        "type": "pie"
                      }
                    ],
                    "scatter": [
                      {
                        "fillpattern": {
                          "fillmode": "overlay",
                          "size": 10,
                          "solidity": 0.2
                        },
                        "type": "scatter"
                      }
                    ],
                    "scatter3d": [
                      {
                        "line": {
                          "colorbar": {
                            "outlinewidth": 0,
                            "ticks": ""
                          }
                        },
                        "marker": {
                          "colorbar": {
                            "outlinewidth": 0,
                            "ticks": ""
                          }
                        },
                        "type": "scatter3d"
                      }
                    ],
                    "scattercarpet": [
                      {
                        "marker": {
                          "colorbar": {
                            "outlinewidth": 0,
                            "ticks": ""
                          }
                        },
                        "type": "scattercarpet"
                      }
                    ],
                    "scattergeo": [
                      {
                        "marker": {
                          "colorbar": {
                            "outlinewidth": 0,
                            "ticks": ""
                          }
                        },
                        "type": "scattergeo"
                      }
                    ],
                    "scattergl": [
                      {
                        "marker": {
                          "colorbar": {
                            "outlinewidth": 0,
                            "ticks": ""
                          }
                        },
                        "type": "scattergl"
                      }
                    ],
                    "scattermapbox": [
                      {
                        "marker": {
                          "colorbar": {
                            "outlinewidth": 0,
                            "ticks": ""
                          }
                        },
                        "type": "scattermapbox"
                      }
                    ],
                    "scatterpolar": [
                      {
                        "marker": {
                          "colorbar": {
                            "outlinewidth": 0,
                            "ticks": ""
                          }
                        },
                        "type": "scatterpolar"
                      }
                    ],
                    "scatterpolargl": [
                      {
                        "marker": {
                          "colorbar": {
                            "outlinewidth": 0,
                            "ticks": ""
                          }
                        },
                        "type": "scatterpolargl"
                      }
                    ],
                    "scatterternary": [
                      {
                        "marker": {
                          "colorbar": {
                            "outlinewidth": 0,
                            "ticks": ""
                          }
                        },
                        "type": "scatterternary"
                      }
                    ],
                    "surface": [
                      {
                        "colorbar": {
                          "outlinewidth": 0,
                          "ticks": ""
                        },
                        "colorscale": [
                          [
                            0,
                            "#0d0887"
                          ],
                          [
                            0.1111111111111111,
                            "#46039f"
                          ],
                          [
                            0.2222222222222222,
                            "#7201a8"
                          ],
                          [
                            0.3333333333333333,
                            "#9c179e"
                          ],
                          [
                            0.4444444444444444,
                            "#bd3786"
                          ],
                          [
                            0.5555555555555556,
                            "#d8576b"
                          ],
                          [
                            0.6666666666666666,
                            "#ed7953"
                          ],
                          [
                            0.7777777777777778,
                            "#fb9f3a"
                          ],
                          [
                            0.8888888888888888,
                            "#fdca26"
                          ],
                          [
                            1,
                            "#f0f921"
                          ]
                        ],
                        "type": "surface"
                      }
                    ],
                    "table": [
                      {
                        "cells": {
                          "fill": {
                            "color": "#EBF0F8"
                          },
                          "line": {
                            "color": "white"
                          }
                        },
                        "header": {
                          "fill": {
                            "color": "#C8D4E3"
                          },
                          "line": {
                            "color": "white"
                          }
                        },
                        "type": "table"
                      }
                    ]
                  },
                  "layout": {
                    "annotationdefaults": {
                      "arrowcolor": "#2a3f5f",
                      "arrowhead": 0,
                      "arrowwidth": 1
                    },
                    "autotypenumbers": "strict",
                    "coloraxis": {
                      "colorbar": {
                        "outlinewidth": 0,
                        "ticks": ""
                      }
                    },
                    "colorscale": {
                      "diverging": [
                        [
                          0,
                          "#8e0152"
                        ],
                        [
                          0.1,
                          "#c51b7d"
                        ],
                        [
                          0.2,
                          "#de77ae"
                        ],
                        [
                          0.3,
                          "#f1b6da"
                        ],
                        [
                          0.4,
                          "#fde0ef"
                        ],
                        [
                          0.5,
                          "#f7f7f7"
                        ],
                        [
                          0.6,
                          "#e6f5d0"
                        ],
                        [
                          0.7,
                          "#b8e186"
                        ],
                        [
                          0.8,
                          "#7fbc41"
                        ],
                        [
                          0.9,
                          "#4d9221"
                        ],
                        [
                          1,
                          "#276419"
                        ]
                      ],
                      "sequential": [
                        [
                          0,
                          "#0d0887"
                        ],
                        [
                          0.1111111111111111,
                          "#46039f"
                        ],
                        [
                          0.2222222222222222,
                          "#7201a8"
                        ],
                        [
                          0.3333333333333333,
                          "#9c179e"
                        ],
                        [
                          0.4444444444444444,
                          "#bd3786"
                        ],
                        [
                          0.5555555555555556,
                          "#d8576b"
                        ],
                        [
                          0.6666666666666666,
                          "#ed7953"
                        ],
                        [
                          0.7777777777777778,
                          "#fb9f3a"
                        ],
                        [
                          0.8888888888888888,
                          "#fdca26"
                        ],
                        [
                          1,
                          "#f0f921"
                        ]
                      ],
                      "sequentialminus": [
                        [
                          0,
                          "#0d0887"
                        ],
                        [
                          0.1111111111111111,
                          "#46039f"
                        ],
                        [
                          0.2222222222222222,
                          "#7201a8"
                        ],
                        [
                          0.3333333333333333,
                          "#9c179e"
                        ],
                        [
                          0.4444444444444444,
                          "#bd3786"
                        ],
                        [
                          0.5555555555555556,
                          "#d8576b"
                        ],
                        [
                          0.6666666666666666,
                          "#ed7953"
                        ],
                        [
                          0.7777777777777778,
                          "#fb9f3a"
                        ],
                        [
                          0.8888888888888888,
                          "#fdca26"
                        ],
                        [
                          1,
                          "#f0f921"
                        ]
                      ]
                    },
                    "colorway": [
                      "#636efa",
                      "#EF553B",
                      "#00cc96",
                      "#ab63fa",
                      "#FFA15A",
                      "#19d3f3",
                      "#FF6692",
                      "#B6E880",
                      "#FF97FF",
                      "#FECB52"
                    ],
                    "font": {
                      "color": "#2a3f5f"
                    },
                    "geo": {
                      "bgcolor": "white",
                      "lakecolor": "white",
                      "landcolor": "#E5ECF6",
                      "showlakes": true,
                      "showland": true,
                      "subunitcolor": "white"
                    },
                    "hoverlabel": {
                      "align": "left"
                    },
                    "hovermode": "closest",
                    "mapbox": {
                      "style": "light"
                    },
                    "paper_bgcolor": "white",
                    "plot_bgcolor": "#E5ECF6",
                    "polar": {
                      "angularaxis": {
                        "gridcolor": "white",
                        "linecolor": "white",
                        "ticks": ""
                      },
                      "bgcolor": "#E5ECF6",
                      "radialaxis": {
                        "gridcolor": "white",
                        "linecolor": "white",
                        "ticks": ""
                      }
                    },
                    "scene": {
                      "xaxis": {
                        "backgroundcolor": "#E5ECF6",
                        "gridcolor": "white",
                        "gridwidth": 2,
                        "linecolor": "white",
                        "showbackground": true,
                        "ticks": "",
                        "zerolinecolor": "white"
                      },
                      "yaxis": {
                        "backgroundcolor": "#E5ECF6",
                        "gridcolor": "white",
                        "gridwidth": 2,
                        "linecolor": "white",
                        "showbackground": true,
                        "ticks": "",
                        "zerolinecolor": "white"
                      },
                      "zaxis": {
                        "backgroundcolor": "#E5ECF6",
                        "gridcolor": "white",
                        "gridwidth": 2,
                        "linecolor": "white",
                        "showbackground": true,
                        "ticks": "",
                        "zerolinecolor": "white"
                      }
                    },
                    "shapedefaults": {
                      "line": {
                        "color": "#2a3f5f"
                      }
                    },
                    "ternary": {
                      "aaxis": {
                        "gridcolor": "white",
                        "linecolor": "white",
                        "ticks": ""
                      },
                      "baxis": {
                        "gridcolor": "white",
                        "linecolor": "white",
                        "ticks": ""
                      },
                      "bgcolor": "#E5ECF6",
                      "caxis": {
                        "gridcolor": "white",
                        "linecolor": "white",
                        "ticks": ""
                      }
                    },
                    "title": {
                      "x": 0.05
                    },
                    "xaxis": {
                      "automargin": true,
                      "gridcolor": "white",
                      "linecolor": "white",
                      "ticks": "",
                      "title": {
                        "standoff": 15
                      },
                      "zerolinecolor": "white",
                      "zerolinewidth": 2
                    },
                    "yaxis": {
                      "automargin": true,
                      "gridcolor": "white",
                      "linecolor": "white",
                      "ticks": "",
                      "title": {
                        "standoff": 15
                      },
                      "zerolinecolor": "white",
                      "zerolinewidth": 2
                    }
                  }
                },
                "title": {
                  "text": "Distribución de la Variable <b>hospitalizacion</b>",
                  "x": 0.5
                },
                "xaxis": {
                  "anchor": "y",
                  "categoryarray": [
                    1,
                    0
                  ],
                  "categoryorder": "array",
                  "domain": [
                    0,
                    1
                  ],
                  "title": {
                    "text": "Hospitalización"
                  }
                },
                "yaxis": {
                  "anchor": "x",
                  "domain": [
                    0,
                    1
                  ],
                  "title": {
                    "text": "Cantidad"
                  }
                }
              }
            }
          },
          "metadata": {},
          "output_type": "display_data"
        }
      ],
      "source": [
        "# Crear un gráfico de barras con Plotly Express\n",
        "fig = px.histogram(df_main, x='hospitalizacion', color='hospitalizacion')\n",
        "\n",
        "# Configurar el título con solo *hospitalizacion* en negrita\n",
        "fig.update_layout(\n",
        "    title='Distribución de la Variable <b>hospitalizacion</b>',\n",
        "    xaxis_title='Hospitalización',\n",
        "    yaxis_title='Cantidad',\n",
        "    font=dict(size=12),\n",
        "    title_x=0.5\n",
        ")\n",
        "\n",
        "# Mostrar el gráfico\n",
        "fig.show()\n"
      ]
    },
    {
      "cell_type": "markdown",
      "metadata": {},
      "source": [
        "Se identifica un significativo desequilibrio de clases en la variable objetivo, donde la clase positiva para la hospitalización cuenta con tan solo 23 registros. En consecuencia, se ha tomado la decisión de llevar a cabo un sobremuestreo de dicha variable con el objetivo de abordar esta disparidad."
      ]
    },
    {
      "cell_type": "markdown",
      "metadata": {
        "id": "X33Od3Y_Lrye"
      },
      "source": [
        "Separen el dataset en X, y (variable objetivo)"
      ]
    },
    {
      "cell_type": "code",
      "execution_count": 4,
      "metadata": {},
      "outputs": [],
      "source": [
        "# Separar el dataset en X e y\n",
        "X = df_main.drop('hospitalizacion', axis=1)\n",
        "y = df_main['hospitalizacion']"
      ]
    },
    {
      "cell_type": "markdown",
      "metadata": {
        "id": "mTV2RdmbMoRE"
      },
      "source": [
        "Separen el dataset en X_train, X_test, y_train y y_test"
      ]
    },
    {
      "cell_type": "code",
      "execution_count": 5,
      "metadata": {
        "id": "ILzt6oOaM1ag"
      },
      "outputs": [
        {
          "name": "stdout",
          "output_type": "stream",
          "text": [
            "Instancias clasificadas como NO en el conjunto de entrenamiento: 287\n",
            "Instancias clasificadas como SI en el conjunto de entrenamiento: 16\n",
            "Instancias clasificadas como NO en el conjunto de prueba: 123\n",
            "Instancias clasificadas como SI en el conjunto de prueba: 7\n"
          ]
        }
      ],
      "source": [
        "# Dividir el dataset en conjuntos de entrenamiento y prueba\n",
        "#X_train, X_test, y_train, y_test = train_test_split(X, y, test_size=0.2, random_state=42)\n",
        "X_train, X_test, y_train, y_test = train_test_split(X, y, test_size=0.3, random_state=42, stratify=y)\n",
        "# Información sobre las etiquetas en el conjunto de entrenamiento\n",
        "print(f'Instancias clasificadas como NO en el conjunto de entrenamiento: {y_train.value_counts()[0]}')\n",
        "print(f'Instancias clasificadas como SI en el conjunto de entrenamiento: {y_train.value_counts()[1]}')\n",
        "\n",
        "# Detalles sobre las etiquetas en el conjunto de prueba\n",
        "print(f'Instancias clasificadas como NO en el conjunto de prueba: {y_test.value_counts()[0]}')\n",
        "print(f'Instancias clasificadas como SI en el conjunto de prueba: {y_test.value_counts()[1]}')"
      ]
    },
    {
      "cell_type": "code",
      "execution_count": 6,
      "metadata": {},
      "outputs": [
        {
          "name": "stdout",
          "output_type": "stream",
          "text": [
            "Instancias clasificadas como NO después de sobremuestreo: 287\n",
            "Instancias clasificadas como SI después de sobremuestreo: 287\n"
          ]
        }
      ],
      "source": [
        "# Se crea una instancia de RandomOverSampler\n",
        "ros = RandomOverSampler(random_state=42)\n",
        "\n",
        "# Se aplica el sobremuestreo a los datos de entrenamiento\n",
        "X_train_ros, y_train_ros = ros.fit_resample(X_train, y_train)\n",
        "\n",
        "# Información sobre las etiquetas después del sobremuestreo en el conjunto de entrenamiento\n",
        "print(f'Instancias clasificadas como NO después de sobremuestreo: {y_train_ros.value_counts()[0]}')\n",
        "print(f'Instancias clasificadas como SI después de sobremuestreo: {y_train_ros.value_counts()[1]}')"
      ]
    },
    {
      "cell_type": "markdown",
      "metadata": {
        "id": "zyQIaY1bM12g"
      },
      "source": [
        "Instancien, entrenen y predigan sobre un árbol de decisión asignando una profundidad máxima arbitraria"
      ]
    },
    {
      "cell_type": "code",
      "execution_count": 7,
      "metadata": {},
      "outputs": [],
      "source": [
        "# Define el rango de hiperparámetros para KNN el GridSearch\n",
        "param_grid_knn = {\n",
        "    'n_neighbors': np.arange(1, 20),\n",
        "    'weights': ['uniform', 'distance'],\n",
        "    'leaf_size':[1,3,5,7,10],\n",
        "    'algorithm':['auto', 'kd_tree']\n",
        "}\n",
        "\n",
        "# Define el rango de hiperparámetros para tre el GridSearch\n",
        "param_grid_tree = {\n",
        "    \"criterion\": ['gini', 'entropy'],\n",
        "    \"max_depth\": range(1, 20)\n",
        "}\n",
        "\n",
        "# Define el rango de hiperparámetros para SVC el GridSearch\n",
        "param_grid_SVC = {\n",
        "    'C': [0.1, 1, 10, 100, 1000],\n",
        "    'gamma': [1, 0.1, 0.01, 0.001, 0.0001],\n",
        "    'kernel': ['rbf']\n",
        "}"
      ]
    },
    {
      "cell_type": "code",
      "execution_count": 8,
      "metadata": {},
      "outputs": [],
      "source": [
        "# Se crea una lista para almacenar los resultados de diferentes modelos\n",
        "results = []\n",
        "\n",
        "# Parámetros para Grid Search en KNN\n",
        "param_grid_knn = {'n_neighbors': [3, 5, 7], 'weights': ['uniform', 'distance'], 'p': [1, 2]}\n",
        "\n",
        "# Parámetros para Grid Search en Decision Tree\n",
        "param_grid_tree = {'criterion': ['gini', 'entropy'], 'max_depth': [None, 10, 20, 30], 'min_samples_split': [2, 5, 10]}\n",
        "\n",
        "# Parámetros para Grid Search en SVC\n",
        "param_grid_SVC = {'C': [0.1, 1, 10], 'kernel': ['linear', 'rbf'], 'gamma': ['scale', 'auto']}\n",
        "\n",
        "# Se instancia y evalua el modelo K-NN\n",
        "knn = KNeighborsClassifier()\n",
        "grid_search_knn = GridSearchCV(estimator=knn, param_grid=param_grid_knn, cv=5)\n",
        "grid_search_knn.fit(X_train_ros, y_train_ros)\n",
        "\n",
        "best_knn_estimator = grid_search_knn.best_estimator_\n",
        "best_knn_params = grid_search_knn.best_params_\n",
        "\n",
        "y_pred_test_knn = best_knn_estimator.predict(X_test)\n",
        "y_pred_train_knn = best_knn_estimator.predict(X_train_ros)\n",
        "\n",
        "cm_train_knn = confusion_matrix(y_train_ros, y_pred_train_knn)\n",
        "cm_test_knn = confusion_matrix(y_test, y_pred_test_knn)\n",
        "\n",
        "train_accuracy_knn = accuracy_score(y_train_ros, y_pred_train_knn)\n",
        "train_precision_knn = precision_score(y_train_ros, y_pred_train_knn)\n",
        "train_recall_knn = recall_score(y_train_ros, y_pred_train_knn)\n",
        "train_f1_knn = f1_score(y_train_ros, y_pred_train_knn)\n",
        "\n",
        "test_accuracy_knn = accuracy_score(y_test, y_pred_test_knn)\n",
        "test_precision_knn = precision_score(y_test, y_pred_test_knn)\n",
        "test_recall_knn = recall_score(y_test, y_pred_test_knn)\n",
        "test_f1_knn = f1_score(y_test, y_pred_test_knn)\n",
        "\n",
        "knn_metrics = {\n",
        "    'Train Accuracy': train_accuracy_knn,\n",
        "    'Train Precision': train_precision_knn,\n",
        "    'Train Recall': train_recall_knn,\n",
        "    'Train F1': train_f1_knn,\n",
        "    'Test Accuracy': test_accuracy_knn,\n",
        "    'Test Precision': test_precision_knn,\n",
        "    'Test Recall': test_recall_knn,\n",
        "    'Test F1': test_f1_knn,\n",
        "}\n",
        "\n",
        "results.append(('KNN', knn_metrics))\n",
        "\n",
        "# Instanciar y evaluar el modelo Decision Tree\n",
        "tree = DecisionTreeClassifier()\n",
        "grid_search_tree = GridSearchCV(estimator=tree, param_grid=param_grid_tree, cv=5)\n",
        "grid_search_tree.fit(X_train_ros, y_train_ros)\n",
        "\n",
        "best_tree_estimator = grid_search_tree.best_estimator_\n",
        "best_tree_params = grid_search_tree.best_params_\n",
        "\n",
        "y_pred_test_tree = best_tree_estimator.predict(X_test)\n",
        "y_pred_train_tree = best_tree_estimator.predict(X_train_ros)\n",
        "\n",
        "cm_train_tree = confusion_matrix(y_train_ros, y_pred_train_tree)\n",
        "cm_test_tree = confusion_matrix(y_test, y_pred_test_tree)\n",
        "\n",
        "train_accuracy_tree = accuracy_score(y_train_ros, y_pred_train_tree)\n",
        "train_precision_tree = precision_score(y_train_ros, y_pred_train_tree)\n",
        "train_recall_tree = recall_score(y_train_ros, y_pred_train_tree)\n",
        "train_f1_tree = f1_score(y_train_ros, y_pred_train_tree)\n",
        "\n",
        "test_accuracy_tree = accuracy_score(y_test, y_pred_test_tree)\n",
        "test_precision_tree = precision_score(y_test, y_pred_test_tree)\n",
        "test_recall_tree = recall_score(y_test, y_pred_test_tree)\n",
        "test_f1_tree = f1_score(y_test, y_pred_test_tree)\n",
        "\n",
        "tree_metrics = {\n",
        "    'Train Accuracy': train_accuracy_tree,\n",
        "    'Train Precision': train_precision_tree,\n",
        "    'Train Recall': train_recall_tree,\n",
        "    'Train F1': train_f1_tree,\n",
        "    'Test Accuracy': test_accuracy_tree,\n",
        "    'Test Precision': test_precision_tree,\n",
        "    'Test Recall': test_recall_tree,\n",
        "    'Test F1': test_f1_tree,\n",
        "}\n",
        "\n",
        "results.append(('Decision Tree', tree_metrics))\n",
        "\n",
        "# Instanciar y evaluar el modelo SVC\n",
        "svc = SVC(probability=True)\n",
        "grid_search_SVC = GridSearchCV(estimator=svc, param_grid=param_grid_SVC, cv=5)\n",
        "grid_search_SVC.fit(X_train_ros, y_train_ros)\n",
        "\n",
        "best_svc_estimator = grid_search_SVC.best_estimator_\n",
        "best_svc_params = grid_search_SVC.best_params_\n",
        "\n",
        "y_pred_test_svc = best_svc_estimator.predict(X_test)\n",
        "y_pred_train_svc = best_svc_estimator.predict(X_train_ros)\n",
        "\n",
        "cm_train_svc = confusion_matrix(y_train_ros, y_pred_train_svc)\n",
        "cm_test_svc = confusion_matrix(y_test, y_pred_test_svc)\n",
        "\n",
        "train_accuracy_svc = accuracy_score(y_train_ros, y_pred_train_svc)\n",
        "train_precision_svc = precision_score(y_train_ros, y_pred_train_svc)\n",
        "train_recall_svc = recall_score(y_train_ros, y_pred_train_svc)\n",
        "train_f1_svc = f1_score(y_train_ros, y_pred_train_svc)\n",
        "\n",
        "test_accuracy_svc = accuracy_score(y_test, y_pred_test_svc)\n",
        "test_precision_svc = precision_score(y_test, y_pred_test_svc)\n",
        "test_recall_svc = recall_score(y_test, y_pred_test_svc)\n",
        "test_f1_svc = f1_score(y_test, y_pred_test_svc)\n",
        "\n",
        "svc_metrics = {\n",
        "    'Train Accuracy': train_accuracy_svc,\n",
        "    'Train Precision': train_precision_svc,\n",
        "    'Train Recall': train_recall_svc,\n",
        "    'Train F1': train_f1_svc,\n",
        "    'Test Accuracy': test_accuracy_svc,\n",
        "    'Test Precision': test_precision_svc,\n",
        "    'Test Recall': test_recall_svc,\n",
        "    'Test F1': test_f1_svc,\n",
        "}\n",
        "\n",
        "results.append(('SVC', svc_metrics))"
      ]
    },
    {
      "cell_type": "code",
      "execution_count": 9,
      "metadata": {},
      "outputs": [
        {
          "data": {
            "text/html": [
              "<div>\n",
              "<style scoped>\n",
              "    .dataframe tbody tr th:only-of-type {\n",
              "        vertical-align: middle;\n",
              "    }\n",
              "\n",
              "    .dataframe tbody tr th {\n",
              "        vertical-align: top;\n",
              "    }\n",
              "\n",
              "    .dataframe thead th {\n",
              "        text-align: right;\n",
              "    }\n",
              "</style>\n",
              "<table border=\"1\" class=\"dataframe\">\n",
              "  <thead>\n",
              "    <tr style=\"text-align: right;\">\n",
              "      <th></th>\n",
              "      <th>Model</th>\n",
              "      <th>Train Accuracy</th>\n",
              "      <th>Train Precision</th>\n",
              "      <th>Train Recall</th>\n",
              "      <th>Train F1</th>\n",
              "      <th>Test Accuracy</th>\n",
              "      <th>Test Precision</th>\n",
              "      <th>Test Recall</th>\n",
              "      <th>Test F1</th>\n",
              "    </tr>\n",
              "  </thead>\n",
              "  <tbody>\n",
              "    <tr>\n",
              "      <th>0</th>\n",
              "      <td>KNN</td>\n",
              "      <td>1.0</td>\n",
              "      <td>1.0</td>\n",
              "      <td>1.0</td>\n",
              "      <td>1.0</td>\n",
              "      <td>0.976923</td>\n",
              "      <td>1.000000</td>\n",
              "      <td>0.571429</td>\n",
              "      <td>0.727273</td>\n",
              "    </tr>\n",
              "    <tr>\n",
              "      <th>1</th>\n",
              "      <td>Decision Tree</td>\n",
              "      <td>1.0</td>\n",
              "      <td>1.0</td>\n",
              "      <td>1.0</td>\n",
              "      <td>1.0</td>\n",
              "      <td>0.976923</td>\n",
              "      <td>0.833333</td>\n",
              "      <td>0.714286</td>\n",
              "      <td>0.769231</td>\n",
              "    </tr>\n",
              "    <tr>\n",
              "      <th>2</th>\n",
              "      <td>SVC</td>\n",
              "      <td>1.0</td>\n",
              "      <td>1.0</td>\n",
              "      <td>1.0</td>\n",
              "      <td>1.0</td>\n",
              "      <td>0.976923</td>\n",
              "      <td>1.000000</td>\n",
              "      <td>0.571429</td>\n",
              "      <td>0.727273</td>\n",
              "    </tr>\n",
              "  </tbody>\n",
              "</table>\n",
              "</div>"
            ],
            "text/plain": [
              "           Model  Train Accuracy  Train Precision  Train Recall  Train F1  \\\n",
              "0            KNN             1.0              1.0           1.0       1.0   \n",
              "1  Decision Tree             1.0              1.0           1.0       1.0   \n",
              "2            SVC             1.0              1.0           1.0       1.0   \n",
              "\n",
              "   Test Accuracy  Test Precision  Test Recall   Test F1  \n",
              "0       0.976923        1.000000     0.571429  0.727273  \n",
              "1       0.976923        0.833333     0.714286  0.769231  \n",
              "2       0.976923        1.000000     0.571429  0.727273  "
            ]
          },
          "execution_count": 9,
          "metadata": {},
          "output_type": "execute_result"
        }
      ],
      "source": [
        "def sum_results_est1(results):\n",
        "    '''\n",
        "    Devuelve un resumen de las métricas a partir de un diccionario que contiene el resumen.\n",
        "    '''\n",
        "    # Convertir la lista de resultados en un DataFrame\n",
        "    data = []\n",
        "\n",
        "    for model_name, metrics in results:\n",
        "        metrics['Model'] = model_name\n",
        "        data.append(metrics)\n",
        "\n",
        "    df_summary = pd.DataFrame(data)\n",
        "\n",
        "    # Reordenar las columnas para tener un formato más legible\n",
        "    columns = ['Model', 'Train Accuracy', 'Train Precision', 'Train Recall', 'Train F1', 'Test Accuracy', 'Test Precision', 'Test Recall', 'Test F1']\n",
        "    df_summary = df_summary[columns]\n",
        "    return df_summary\n",
        "\n",
        "# Luego, puedes utilizarla con tu lista de resultados\n",
        "results_sum = sum_results_est1(results)\n",
        "results_sum"
      ]
    },
    {
      "cell_type": "code",
      "execution_count": 10,
      "metadata": {},
      "outputs": [
        {
          "name": "stdout",
          "output_type": "stream",
          "text": [
            "PARÁMETROS DE LOS MEJORES MODELOS\n",
            "KNN: {'n_neighbors': 3, 'p': 1, 'weights': 'distance'}\n",
            "Decision Tree: {'criterion': 'entropy', 'max_depth': None, 'min_samples_split': 2}\n",
            "SVC: {'C': 10, 'gamma': 'auto', 'kernel': 'rbf'}\n"
          ]
        }
      ],
      "source": [
        "# Se presentan los mejores parámetros para cada modelo\n",
        "print('PARÁMETROS DE LOS MEJORES MODELOS')\n",
        "print('KNN:', best_knn_params)\n",
        "print('Decision Tree:', best_tree_params)\n",
        "print('SVC:', best_svc_params)"
      ]
    },
    {
      "cell_type": "markdown",
      "metadata": {
        "id": "HAZhxOMyNFON"
      },
      "source": [
        "Realicen la matriz de confusión para este modelo. Se recomienda utilizar mapa de calor para la visualización. "
      ]
    },
    {
      "cell_type": "code",
      "execution_count": 11,
      "metadata": {},
      "outputs": [
        {
          "data": {
            "image/png": "[encoded data removed]",
            "text/plain": [
              "<Figure size 800x600 with 1 Axes>"
            ]
          },
          "metadata": {},
          "output_type": "display_data"
        }
      ],
      "source": [
        "# Crear la matriz de confusión para el conjunto de prueba\n",
        "cm_test_tree = confusion_matrix(y_test, y_pred_test_tree)\n",
        "\n",
        "# Crear un mapa de calor para la matriz de confusión\n",
        "plt.figure(figsize=(8, 6))\n",
        "sns.heatmap(cm_test_tree, annot=True, fmt='g', cmap='rocket_r', cbar=False)\n",
        "plt.xlabel('Predicted labels')\n",
        "plt.ylabel('True labels')\n",
        "plt.title('Matriz de confusión')\n",
        "plt.show()"
      ]
    },
    {
      "cell_type": "markdown",
      "metadata": {},
      "source": [
        "Seleccione tres métricas de evaluación para este modelo de clasificación y describa el significado de cada una de ellas para el modelo creado."
      ]
    },
    {
      "cell_type": "code",
      "execution_count": 12,
      "metadata": {},
      "outputs": [
        {
          "data": {
            "image/png": "[encoded data removed]",
            "text/plain": [
              "<Figure size 1500x500 with 6 Axes>"
            ]
          },
          "metadata": {},
          "output_type": "display_data"
        }
      ],
      "source": [
        "# Se visualizan las tres matrices de confusión\n",
        "matrices = [cm_test_knn, cm_test_tree, cm_test_svc]\n",
        "modelos = ['KNN', 'Decision Tree', 'SVC']\n",
        "\n",
        "# Paleta de colores que prefieras, por ejemplo, 'Blues', 'Greens', 'Oranges', etc.\n",
        "colores = ['Blues', 'Greens', 'Oranges']\n",
        "\n",
        "fig, axes = plt.subplots(1, 3, figsize=(15, 5))\n",
        "for i, (m, modelo, color) in enumerate(zip(matrices, modelos, colores)):\n",
        "    ax = axes[i]\n",
        "    cm_display = ConfusionMatrixDisplay(m, display_labels=['NO', 'SI'])\n",
        "    \n",
        "    # Configura el color de la matriz de confusión\n",
        "    cm_display.plot(ax=ax, cmap='rocket_r')\n",
        "    \n",
        "    ax.set_title(f'Matriz de Confusión - {modelo}')\n",
        "\n",
        "plt.tight_layout()\n",
        "plt.show()\n"
      ]
    },
    {
      "cell_type": "markdown",
      "metadata": {},
      "source": [
        "Debido a la notable disparidad en la variable objetivo en nuestro conjunto de datos, hemos optado por utilizar el F1 Score (Test_F1) como la métrica de evaluación principal. Esta elección se basa en su capacidad para combinar la precisión (proporción de resultados correctos en relación con el total de muestras seleccionadas) y la exhaustividad (proporción de resultados correctos en relación con el total de resultados que se pretenden identificar). De esta manera, se busca lograr un equilibrio ponderado entre ambas medidas.\n",
        "\n",
        "En cuanto a esta métrica específica, el modelo de Árbol de Decisión ha demostrado el F1 Score más destacado, alcanzando un valor de 0.77. Sin embargo, es fundamental señalar que aún existe un margen considerable de error en las predicciones relacionadas con individuos que eventualmente serán hospitalizados. Este aspecto se confirma al examinar detenidamente las correspondientes matrices de confusión."
      ]
    },
    {
      "cell_type": "markdown",
      "metadata": {},
      "source": [
        "Realice un diagrama de la importancia de cada variable respecto a la clasificación de la variable objetivo"
      ]
    },
    {
      "cell_type": "code",
      "execution_count": 13,
      "metadata": {},
      "outputs": [
        {
          "data": {
            "image/png": "[encoded data removed]",
            "text/plain": [
              "<Figure size 1000x800 with 1 Axes>"
            ]
          },
          "metadata": {},
          "output_type": "display_data"
        }
      ],
      "source": [
        "# Visualizar la importancia de las características\n",
        "feature_importances = best_tree_estimator.feature_importances_\n",
        "\n",
        "# Crear un DataFrame para facilitar la visualización\n",
        "features_df = pd.DataFrame({'Feature': X.columns, 'Importance': feature_importances})\n",
        "\n",
        "# Ordenar el DataFrame por importancia\n",
        "features_df = features_df.sort_values(by='Importance', ascending=False)\n",
        "\n",
        "# Crear el gráfico\n",
        "plt.figure(figsize=(10, 8))\n",
        "sns.barplot(x='Importance', y='Feature', data=features_df)\n",
        "plt.title('Importancia de las variables, respecto a la variable objetivo')\n",
        "plt.xlabel('Importance')\n",
        "plt.ylabel('Feature')\n",
        "plt.show()"
      ]
    },
    {
      "cell_type": "markdown",
      "metadata": {},
      "source": [
        "Instancien, entrenen y predigan sobre un modelo de k-vecinos asignando una cantidad de vecinos k-aribitraria. "
      ]
    },
    {
      "cell_type": "markdown",
      "metadata": {},
      "source": [
        "## Usando reducción de dimensionalidad (PCA)\n",
        "En la segunda estrategia, evaluamos los modelos bajo distintos escenarios de reducción de dimensionalidad, aplicando Análisis de Componentes Principales (PCA). Comenzamos estandarizando los datos con StandardScaler y luego definimos cuatro escenarios de reducción a 3, 5, 8 y 10 componentes. A través de un ciclo iterativo, reducimos la dimensionalidad y entrenamos los modelos. Las métricas óptimas para cada modelo en cada escenario se registran en un diccionario, facilitando la comparación y visualización detallada de los resultados."
      ]
    },
    {
      "cell_type": "code",
      "execution_count": 14,
      "metadata": {},
      "outputs": [],
      "source": [
        "# Se estandarizan los datos antes de aplicar PCA\n",
        "scaler = StandardScaler()\n",
        "X_train_scaled = scaler.fit_transform(X_train_ros)\n",
        "X_test_scaled = scaler.transform(X_test)"
      ]
    },
    {
      "cell_type": "code",
      "execution_count": 15,
      "metadata": {},
      "outputs": [],
      "source": [
        "# Se define un diccionario para almacenar resultados\n",
        "results = {}\n",
        "\n",
        "# Se definen los números de componentes principales\n",
        "num_components = [3, 5, 8, 10]\n",
        "\n",
        "for n in num_components:\n",
        "    \n",
        "    # Se aplica PCA\n",
        "    pca = PCA(n_components=n)\n",
        "    X_train_pca = pca.fit_transform(X_train_scaled)\n",
        "    X_test_pca = pca.transform(X_test_scaled)\n",
        "    \n",
        "    # Se define y entrena el modelo KNN\n",
        "    knn = KNeighborsClassifier()\n",
        "    param_grid_knn = {'n_neighbors': [3, 5, 7], 'weights': ['uniform', 'distance'], 'p': [1, 2]}\n",
        "    grid_search_knn = GridSearchCV(knn, param_grid_knn, cv=5)\n",
        "    grid_search_knn.fit(X_train_pca, y_train_ros)\n",
        "    \n",
        "    best_knn = grid_search_knn.best_estimator_\n",
        "    knn_pred_train = best_knn.predict(X_train_pca)\n",
        "    knn_pred_test = best_knn.predict(X_test_pca)\n",
        "    knn_best_params = grid_search_knn.best_params_\n",
        "\n",
        "    # Se define y entrena el modelo Decision Tree\n",
        "    tree = DecisionTreeClassifier()\n",
        "    param_grid_tree = {'criterion': ['gini', 'entropy'], 'max_depth': [None, 10, 20, 30], 'min_samples_split': [2, 5, 10]}\n",
        "    grid_search_tree = GridSearchCV(tree, param_grid_tree, cv=5)\n",
        "    grid_search_tree.fit(X_train_pca, y_train_ros)\n",
        "\n",
        "    best_tree = grid_search_tree.best_estimator_\n",
        "    tree_pred_train = best_tree.predict(X_train_pca)\n",
        "    tree_pred_test = best_tree.predict(X_test_pca)\n",
        "    tree_best_params = grid_search_tree.best_params_\n",
        "\n",
        "    # Se define y entrena el modelo SVC\n",
        "    svc = SVC(probability=True)\n",
        "    param_grid_SVC = {'C': [0.1, 1, 10], 'kernel': ['linear', 'rbf'], 'gamma': ['scale', 'auto']}\n",
        "    grid_search_svc = GridSearchCV(svc, param_grid_SVC, cv=5)\n",
        "    grid_search_svc.fit(X_train_pca, y_train_ros)\n",
        "\n",
        "    best_svc = grid_search_svc.best_estimator_\n",
        "    svc_pred_train = best_svc.predict(X_train_pca)\n",
        "    svc_pred_test = best_svc.predict(X_test_pca)\n",
        "    svc_best_params = grid_search_svc.best_params_\n",
        "\n",
        "    # Se almacenan los resultados en el diccionario\n",
        "    results[n] = {\n",
        "        'KNN': (knn_pred_train, knn_pred_test, best_knn),\n",
        "        'Tree': (tree_pred_train, tree_pred_test, best_tree),\n",
        "        'SVC': (svc_pred_train, svc_pred_test, best_svc)\n",
        "    }"
      ]
    },
    {
      "cell_type": "code",
      "execution_count": 16,
      "metadata": {},
      "outputs": [
        {
          "data": {
            "image/png": "[encoded data removed]",
            "text/plain": [
              "<Figure size 1500x500 with 2 Axes>"
            ]
          },
          "metadata": {},
          "output_type": "display_data"
        }
      ],
      "source": [
        "# Crear una lista de diccionarios para almacenar los resultados\n",
        "summary_results = []\n",
        "\n",
        "for n, models in results.items():\n",
        "    for model_name, (y_train_pred, y_test_pred, best_model) in models.items():\n",
        "        report_train = classification_report(y_train_ros, y_train_pred, output_dict=True)\n",
        "        report_test = classification_report(y_test, y_test_pred, output_dict=True)\n",
        "\n",
        "        summary_results.append({\n",
        "            'Components': n,\n",
        "            'Model': model_name,\n",
        "            'Train_Precision': report_train[\"macro avg\"][\"precision\"],\n",
        "            'Train_Recall': report_train[\"macro avg\"][\"recall\"],\n",
        "            'Train_F1': report_train[\"macro avg\"][\"f1-score\"],\n",
        "            'Test_Precision': report_test[\"macro avg\"][\"precision\"],\n",
        "            'Test_Recall': report_test[\"macro avg\"][\"recall\"],\n",
        "            'Test_F1': report_test[\"macro avg\"][\"f1-score\"]\n",
        "        })\n",
        "\n",
        "# Crear un DataFrame a partir de la lista de resultados\n",
        "df_summary = pd.DataFrame(summary_results)\n",
        "\n",
        "# Reorganizar el DataFrame para tener una columna para cada métrica\n",
        "df_summary_metrics = df_summary.pivot(index='Components', columns='Model')\n",
        "\n",
        "# Elegir las métricas que deseas visualizar (por ejemplo, precisión, recall, F1-score)\n",
        "metrics_to_show = ['Train_Precision', 'Train_Recall', 'Train_F1', 'Test_Precision', 'Test_Recall', 'Test_F1']\n",
        "df_metrics_to_show = df_summary_metrics[metrics_to_show]\n",
        "\n",
        "# Crear un heatmap\n",
        "plt.figure(figsize=(15, 5))\n",
        "sns.heatmap(df_metrics_to_show, annot=True, cmap='rocket_r', fmt=\".2f\")\n",
        "plt.title('Comparación de Métricas por Modelo y Componentes Principales')\n",
        "plt.show()"
      ]
    },
    {
      "cell_type": "markdown",
      "metadata": {},
      "source": [
        "Encuentre el valor óptimo para k"
      ]
    },
    {
      "cell_type": "code",
      "execution_count": 17,
      "metadata": {},
      "outputs": [
        {
          "data": {
            "image/png": "[encoded data removed]",
            "text/plain": [
              "<Figure size 640x480 with 2 Axes>"
            ]
          },
          "metadata": {},
          "output_type": "display_data"
        }
      ],
      "source": [
        "# Encuentra el mejor modelo y métrica en el resumen\n",
        "best_model_info = df_summary[df_summary['Test_F1'] == df_summary['Test_F1'].max()].iloc[0]\n",
        "\n",
        "# Obtener información del mejor modelo\n",
        "best_components = best_model_info['Components']\n",
        "best_model_name = best_model_info['Model']\n",
        "\n",
        "# Obtener predicciones del mejor modelo\n",
        "best_model_preds = results[best_components][best_model_name][1]\n",
        "\n",
        "# Obtener matriz de confusión\n",
        "conf_matrix = confusion_matrix(y_test, best_model_preds)\n",
        "\n",
        "# Crear una visualización de la matriz de confusión\n",
        "cm_display = ConfusionMatrixDisplay(conf_matrix)\n",
        "cm_display.plot()\n",
        "plt.xlabel('Predicciones')\n",
        "plt.ylabel('Verdaderos')\n",
        "plt.title(f'Confusion Matrix for {best_model_name} (Components: {best_components})')\n",
        "plt.show()"
      ]
    },
    {
      "cell_type": "markdown",
      "metadata": {
        "id": "_xXX6APsNjkV"
      },
      "source": [
        "Halle las mismas tres métricas de evaluación para este modelo de clasificación y compare los valores para el performance, respecto al árbol de decisión cuyo hiperparámetro **max_depth** se optimizó. ¿Qué puede concluir?\n"
      ]
    },
    {
      "cell_type": "code",
      "execution_count": 18,
      "metadata": {},
      "outputs": [
        {
          "name": "stdout",
          "output_type": "stream",
          "text": [
            "PARÁMETROS DE LOS MEJORES MODELOS\n",
            "KNN: {'n_neighbors': 3, 'p': 2, 'weights': 'distance'}\n",
            "Decision Tree: {'criterion': 'entropy', 'max_depth': 30, 'min_samples_split': 10}\n",
            "SCV: {'C': 10, 'gamma': 'scale', 'kernel': 'rbf'}\n"
          ]
        }
      ],
      "source": [
        "# Se presentan los mejores parámetros para cada modelo\n",
        "print('PARÁMETROS DE LOS MEJORES MODELOS')\n",
        "print('KNN:', knn_best_params)\n",
        "print('Decision Tree:', tree_best_params)\n",
        "print('SCV:', svc_best_params)"
      ]
    },
    {
      "cell_type": "markdown",
      "metadata": {},
      "source": [
        "En esta perspectiva, destaca el rendimiento superior del modelo de Árbol de Decisión en el contexto de la reducción de dimensionalidad a 5 componentes. En este escenario específico, se observa un F1 Score de 0.91, notablemente mejor que el logrado con el enfoque inicial."
      ]
    },
    {
      "cell_type": "markdown",
      "metadata": {},
      "source": [
        "## CONCLUSIONES"
      ]
    },
    {
      "cell_type": "markdown",
      "metadata": {},
      "source": [
        "*Se realizaron entrenamientos de tres modelos (Árbol de Decisión, K-Vecinos Cercanos y Máquina de Soporte de Vectores) mediante dos enfoques de análisis. Uno consideró todas las variables del conjunto de datos, mientras que el otro exploró cuatro escenarios de reducción de dimensionalidad.*\n",
        "\n",
        "*En ambos enfoques, se concluyó que el Árbol de Decisión fue el algoritmo más efectivo para clasificar a los pacientes, ya sea hospitalizados o no. No obstante, en el primer enfoque, que utilizó todas las variables del conjunto de datos, el modelo solo alcanzó un F1 Score de 0.77, considerado relativamente bajo. En contraste, en el enfoque de reducción de dimensionalidad, el modelo más destacado fue un Árbol de Decisión con una profundidad máxima de 30, empleando el criterio Gini y con 10 componentes de reducción. En este último escenario, se logró un F1 Score de 0.91, representando un rendimiento aceptable, especialmente dado el considerable desbalance en la clase objetivo.*"
      ]
    },
    {
      "cell_type": "markdown",
      "metadata": {
        "id": "JeGx2V0lTF9i"
      },
      "source": [
        "### De acuerdo con lo aprendido en el módulo, ¿Cómo cree que se puede mejorar el performance de este modelo? "
      ]
    },
    {
      "cell_type": "markdown",
      "metadata": {},
      "source": [
        "*El gran desequilibrio de los datos ha sido un gran inconveniente, seria mejor intentar este modelo con un dataset más equilibrado y así lograr un mejor entrenamiento.*"
      ]
    }
  ],
  "metadata": {
    "colab": {
      "provenance": []
    },
    "kernelspec": {
      "display_name": "Python 3",
      "language": "python",
      "name": "python3"
    },
    "language_info": {
      "codemirror_mode": {
        "name": "ipython",
        "version": 3
      },
      "file_extension": ".py",
      "mimetype": "text/x-python",
      "name": "python",
      "nbconvert_exporter": "python",
      "pygments_lexer": "ipython3",
      "version": "3.12.0"
    },
    "orig_nbformat": 4,
    "vscode": {
      "interpreter": {
        "hash": "ae0e7af47f894f9476ada5eb18ddb08363018cc3b7dc70bce08ae16d38df8604"
      }
    }
  },
  "nbformat": 4,
  "nbformat_minor": 0
}
